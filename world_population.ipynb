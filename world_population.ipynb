{
 "cells": [
  {
   "cell_type": "code",
   "execution_count": null,
   "metadata": {
    "vscode": {
     "languageId": "plaintext"
    }
   },
   "outputs": [],
   "source": [
    "Load the dataset from Google Drive\n",
    "df = pd.read_csv('world_population.csv')\n",
    "\n",
    "Melt the DataFrame to have years as a separate column\n",
    "population_columns = ['2000 Population', '2010 Population', '2015 Population', '2020 Population', '2022 Population']\n",
    "df_melted = df.melt(id_vars=['Continent'], value_vars=population_columns, \n",
    "                    var_name='Year', value_name='Population')\n",
    "\n",
    "Clean the Year column to extract the year as an integer\n",
    "df_melted['Year'] = df_melted['Year'].str.replace(' Population', '').astype(int)\n",
    "\n",
    "Group by continent to sum the population across all years\n",
    "continent_population = df_melted.groupby('Continent')['Population'].sum().reset_index()\n",
    "\n",
    "Set the visual style\n",
    "sns.set(style='whitegrid')\n",
    "\n",
    "Create the bar plot for total population by continent\n",
    "plt.figure(figsize=(12, 6))\n",
    "sns.barplot(data=continent_population, x='Continent', y='Population', palette='viridis')\n",
    "\n",
    "Add titles and labels\n",
    "plt.title('Total Population by Continent from 2000 to 2022', fontsize=16)\n",
    "plt.xlabel('Continent', fontsize=14)\n",
    "plt.ylabel('Total Population', fontsize=14)\n",
    "\n",
    "Display the population values on top of the bars\n",
    "for index, row in continent_population.iterrows():\n",
    "    plt.text(index, row.Population, f'{row.Population:,}', ha='center', va='bottom')\n",
    "\n",
    "plt.xticks(rotation=45)\n",
    "plt.grid(axis='y')\n",
    "\n",
    "Show the plot\n",
    "plt.tight_layout()\n",
    "plt.show()"
   ]
  }
 ],
 "metadata": {
  "language_info": {
   "name": "python"
  }
 },
 "nbformat": 4,
 "nbformat_minor": 2
}
